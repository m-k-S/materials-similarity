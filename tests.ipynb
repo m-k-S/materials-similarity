{
 "cells": [
  {
   "cell_type": "code",
   "execution_count": 31,
   "metadata": {},
   "outputs": [
    {
     "name": "stdout",
     "output_type": "stream",
     "text": [
      "Fetching boltztrap_mp.json.gz from https://ndownloader.figshare.com/files/13297511 to /Users/muon/opt/anaconda3/lib/python3.9/site-packages/matminer/datasets/boltztrap_mp.json.gz\n"
     ]
    },
    {
     "name": "stderr",
     "output_type": "stream",
     "text": [
      "Fetching https://ndownloader.figshare.com/files/13297511 in MB: 14.020608MB [00:00, 363.05MB/s]                         \n"
     ]
    }
   ],
   "source": [
    "from matminer.datasets import load_dataset\n",
    "\n",
    "# dielectric = load_dataset(\"matbench_dielectric\")\n",
    "# log_gvrh = load_dataset(\"matbench_log_gvrh\")\n",
    "# jdft2d = load_dataset(\"matbench_jdft2d\")\n",
    "\n",
    "boltztrap_mp = load_dataset(\"boltztrap_mp\")\n",
    "\n",
    "# matbench_dielectric\n",
    "matbench_expt_gap\n",
    "# matbench_expt_is_metal\n",
    "# matbench_glass\n",
    "# matbench_jdft2d\n",
    "# matbench_steels"
   ]
  },
  {
   "cell_type": "code",
   "execution_count": 41,
   "metadata": {},
   "outputs": [
    {
     "data": {
      "text/plain": [
       "0        SrCrO4\n",
       "1          PrF3\n",
       "2           SnS\n",
       "3      Tl9SbSe6\n",
       "4       K4GeSe4\n",
       "         ...   \n",
       "362         TlS\n",
       "363      CrPbO4\n",
       "364    LiNiP2O7\n",
       "365         LiF\n",
       "366          KF\n",
       "Length: 367, dtype: object"
      ]
     },
     "execution_count": 41,
     "metadata": {},
     "output_type": "execute_result"
    }
   ],
   "source": [
    "import pandas as pd\n",
    "# dielectric.iloc[0].structure \n",
    "# boltztrap_mp.columns\n",
    "\n",
    "# expt_gap.composition\n",
    "\n",
    "pd.Series(list(set(boltztrap_mp.formula) & set(expt_is_metal.composition)))\n"
   ]
  },
  {
   "cell_type": "code",
   "execution_count": 49,
   "metadata": {},
   "outputs": [
    {
     "data": {
      "text/plain": [
       "Index(['mpid', 'pf_n', 'pf_p', 's_n', 's_p', 'formula', 'm_n', 'm_p',\n",
       "       'structure'],\n",
       "      dtype='object')"
      ]
     },
     "execution_count": 49,
     "metadata": {},
     "output_type": "execute_result"
    }
   ],
   "source": [
    "boltztrap_mp.head()\n",
    "boltztrap_mp.columns"
   ]
  },
  {
   "cell_type": "code",
   "execution_count": 53,
   "metadata": {},
   "outputs": [],
   "source": [
    "import torch\n",
    "from torch_geometric.data import Data\n",
    "import numpy as np\n",
    "import pandas as pd\n",
    "from tqdm import tqdm\n",
    "\n",
    "periodic_table = pd.read_csv('data/periodic_table.csv')\n",
    "\n",
    "# Find the largest element in the dataset\n",
    "# Returns the atomic number of the largest element\n",
    "def get_largest_element(df):\n",
    "    largest_element = 0\n",
    "    for idx, entry in df.iterrows():\n",
    "        struct = entry.structure\n",
    "        for site in struct._sites:\n",
    "            symbol = str(list(site._species._data.keys())[0])\n",
    "            atomic_number = periodic_table.AtomicNumber[periodic_table['Symbol'] == symbol].values[-1]\n",
    "            if atomic_number > largest_element:\n",
    "                largest_element = atomic_number\n",
    "    return largest_element\n",
    "\n",
    "# Create a fully connected graph from a pymatgen structure\n",
    "# Returns an array of shape (2, n_edges) where each column is an edge\n",
    "# This is the format required by the PyTorch Geometric library\n",
    "def make_edge_indices(entry):\n",
    "    n_nodes = len(entry.structure._sites)\n",
    "    edge_index = []\n",
    "    for i in range(n_nodes):\n",
    "        for j in range(n_nodes):\n",
    "            if i != j:\n",
    "                edge_index.append([i, j])\n",
    "    return torch.tensor(edge_index).transpose(0, 1)\n",
    "\n",
    "# Create a graph from a Pandas DataFrame of pymatgen structures\n",
    "# Returns a tuple of (feature_matrix, coord_matrix, label)\n",
    "# feature_matrix is a matrix of shape (n_nodes, n_features)\n",
    "# coord_matrix is a matrix of shape (n_nodes, 3)\n",
    "# label is a scalar\n",
    "def get_features_and_coords(df):\n",
    "    largest_element = get_largest_element(df)\n",
    "    data = []\n",
    "\n",
    "    for idx, entry in tqdm(df.iterrows(), desc=\"Building material graphs\"):\n",
    "        struct = entry.structure\n",
    "\n",
    "        feature_matrix = []\n",
    "        coord_matrix = []\n",
    "\n",
    "        # Features\n",
    "        for site in struct._sites:\n",
    "            feature_vec = [0 for _ in range(largest_element)] # create a vector of zeros\n",
    "            symbol = str(list(site._species._data.keys())[0])\n",
    "            atomic_number = periodic_table.AtomicNumber[periodic_table['Symbol'] == symbol].values[-1]\n",
    "            feature_vec[atomic_number - 1] = 1 # one-hot encode atomic number\n",
    "            feature_matrix.append(feature_vec)\n",
    "\n",
    "        # Coordinates\n",
    "        for site in struct._sites:\n",
    "            coords = site._frac_coords\n",
    "            coord_matrix.append(coords)\n",
    "\n",
    "        coord_matrix = torch.FloatTensor(np.array(coord_matrix))\n",
    "        feature_matrix = torch.FloatTensor(np.array(feature_matrix))\n",
    "\n",
    "        # Labels\n",
    "        labels = {}\n",
    "        for col in df.columns:\n",
    "            if col != 'structure':\n",
    "                labels[col] = torch.tensor(entry[col])\n",
    "\n",
    "        if (feature_matrix is not None) and (len(feature_matrix) > 1): \n",
    "            edge_index=make_edge_indices(entry)\n",
    "            if len(edge_index.shape) > 1:\n",
    "                datum = Data(x=feature_matrix, edge_index=edge_index, y=labels, pos=coord_matrix)\n",
    "                data.append(datum)\n",
    "\n",
    "    return data"
   ]
  },
  {
   "cell_type": "code",
   "execution_count": 56,
   "metadata": {},
   "outputs": [],
   "source": [
    "from tqdm import tqdm\n",
    "df = boltztrap_mp.drop(columns=['mpid', 'formula'])\n",
    "dataset = get_features_and_coords(df)\n"
   ]
  },
  {
   "cell_type": "code",
   "execution_count": null,
   "metadata": {},
   "outputs": [],
   "source": [
    "dataset[0].y"
   ]
  }
 ],
 "metadata": {
  "kernelspec": {
   "display_name": "Python 3",
   "language": "python",
   "name": "python3"
  },
  "language_info": {
   "codemirror_mode": {
    "name": "ipython",
    "version": 3
   },
   "file_extension": ".py",
   "mimetype": "text/x-python",
   "name": "python",
   "nbconvert_exporter": "python",
   "pygments_lexer": "ipython3",
   "version": "3.9.10"
  },
  "orig_nbformat": 4,
  "vscode": {
   "interpreter": {
    "hash": "b0fa6594d8f4cbf19f97940f81e996739fb7646882a419484c72d19e05852a7e"
   }
  }
 },
 "nbformat": 4,
 "nbformat_minor": 2
}
