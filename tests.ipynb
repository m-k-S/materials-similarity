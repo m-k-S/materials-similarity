{
 "cells": [
  {
   "cell_type": "code",
   "execution_count": 2,
   "metadata": {},
   "outputs": [],
   "source": [
    "from matminer.datasets import load_dataset\n",
    "\n",
    "# dielectric = load_dataset(\"matbench_dielectric\")\n",
    "# log_gvrh = load_dataset(\"matbench_log_gvrh\")\n",
    "# jdft2d = load_dataset(\"matbench_jdft2d\")\n",
    "\n",
    "boltztrap_mp = load_dataset(\"boltztrap_mp\")\n",
    "\n",
    "# matbench_dielectric\n",
    "# matbench_expt_gap\n",
    "# matbench_expt_is_metal\n",
    "# matbench_glass\n",
    "# matbench_jdft2d\n",
    "# matbench_steels"
   ]
  },
  {
   "cell_type": "code",
   "execution_count": 41,
   "metadata": {},
   "outputs": [
    {
     "data": {
      "text/plain": [
       "0        SrCrO4\n",
       "1          PrF3\n",
       "2           SnS\n",
       "3      Tl9SbSe6\n",
       "4       K4GeSe4\n",
       "         ...   \n",
       "362         TlS\n",
       "363      CrPbO4\n",
       "364    LiNiP2O7\n",
       "365         LiF\n",
       "366          KF\n",
       "Length: 367, dtype: object"
      ]
     },
     "execution_count": 41,
     "metadata": {},
     "output_type": "execute_result"
    }
   ],
   "source": [
    "import pandas as pd\n",
    "# dielectric.iloc[0].structure \n",
    "# boltztrap_mp.columns\n",
    "\n",
    "# expt_gap.composition\n",
    "\n",
    "pd.Series(list(set(boltztrap_mp.formula) & set(expt_is_metal.composition)))\n"
   ]
  },
  {
   "cell_type": "code",
   "execution_count": 49,
   "metadata": {},
   "outputs": [
    {
     "data": {
      "text/plain": [
       "Index(['mpid', 'pf_n', 'pf_p', 's_n', 's_p', 'formula', 'm_n', 'm_p',\n",
       "       'structure'],\n",
       "      dtype='object')"
      ]
     },
     "execution_count": 49,
     "metadata": {},
     "output_type": "execute_result"
    }
   ],
   "source": [
    "boltztrap_mp.head()\n",
    "boltztrap_mp.columns"
   ]
  },
  {
   "cell_type": "code",
   "execution_count": 8,
   "metadata": {},
   "outputs": [],
   "source": [
    "import torch\n",
    "from torch_geometric.data import Data\n",
    "import numpy as np\n",
    "import pandas as pd\n",
    "from tqdm import tqdm\n",
    "\n",
    "periodic_table = pd.read_csv('data/periodic_table.csv')\n",
    "\n",
    "# Find the largest element in the dataset\n",
    "# Returns the atomic number of the largest element\n",
    "def get_largest_element(df):\n",
    "    largest_element = 0\n",
    "    for idx, entry in df.iterrows():\n",
    "        struct = entry.structure\n",
    "        for site in struct._sites:\n",
    "            symbol = str(list(site._species._data.keys())[0])\n",
    "            atomic_number = periodic_table.AtomicNumber[periodic_table['Symbol'] == symbol].values[-1]\n",
    "            if atomic_number > largest_element:\n",
    "                largest_element = atomic_number\n",
    "    return largest_element\n",
    "\n",
    "# Create a fully connected graph from a pymatgen structure\n",
    "# Returns an array of shape (2, n_edges) where each column is an edge\n",
    "# This is the format required by the PyTorch Geometric library\n",
    "def make_edge_indices(entry):\n",
    "    n_nodes = len(entry.structure._sites)\n",
    "    edge_index = []\n",
    "    for i in range(n_nodes):\n",
    "        for j in range(n_nodes):\n",
    "            if i != j:\n",
    "                edge_index.append([i, j])\n",
    "    return torch.tensor(edge_index).transpose(0, 1)\n",
    "\n",
    "# Create a graph from a Pandas DataFrame of pymatgen structures\n",
    "# Returns a tuple of (feature_matrix, coord_matrix, label)\n",
    "# feature_matrix is a matrix of shape (n_nodes, n_features)\n",
    "# coord_matrix is a matrix of shape (n_nodes, 3)\n",
    "# label is a scalar\n",
    "def get_features_and_coords(df):\n",
    "    largest_element = get_largest_element(df)\n",
    "    data = []\n",
    "\n",
    "    for idx, entry in tqdm(df.iterrows(), desc=\"Building material graphs\"):\n",
    "        struct = entry.structure\n",
    "\n",
    "        feature_matrix = []\n",
    "        coord_matrix = []\n",
    "\n",
    "        # Features\n",
    "        for site in struct._sites:\n",
    "            feature_vec = [0 for _ in range(largest_element)] # create a vector of zeros\n",
    "            symbol = str(list(site._species._data.keys())[0])\n",
    "            atomic_number = periodic_table.AtomicNumber[periodic_table['Symbol'] == symbol].values[-1]\n",
    "            feature_vec[atomic_number - 1] = 1 # one-hot encode atomic number\n",
    "            feature_matrix.append(feature_vec)\n",
    "\n",
    "        # Coordinates\n",
    "        for site in struct._sites:\n",
    "            coords = site._frac_coords\n",
    "            coord_matrix.append(coords)\n",
    "\n",
    "        coord_matrix = torch.FloatTensor(np.array(coord_matrix))\n",
    "        feature_matrix = torch.FloatTensor(np.array(feature_matrix))\n",
    "\n",
    "        # Labels\n",
    "        labels = {}\n",
    "        for col in df.columns:\n",
    "            if col != 'structure':\n",
    "                labels[col] = torch.tensor(entry[col])\n",
    "\n",
    "        if (feature_matrix is not None) and (len(feature_matrix) > 1): \n",
    "            edge_index=make_edge_indices(entry)\n",
    "            if len(edge_index.shape) > 1:\n",
    "                datum = Data(x=feature_matrix, edge_index=edge_index, y=labels, pos=coord_matrix)\n",
    "                data.append(datum)\n",
    "\n",
    "    return data"
   ]
  },
  {
   "cell_type": "code",
   "execution_count": 9,
   "metadata": {},
   "outputs": [
    {
     "name": "stderr",
     "output_type": "stream",
     "text": [
      "Building material graphs: 873it [00:02, 241.67it/s]"
     ]
    }
   ],
   "source": [
    "from tqdm import tqdm\n",
    "df = boltztrap_mp.drop(columns=['mpid', 'formula'])\n",
    "dataset = get_features_and_coords(df)\n"
   ]
  },
  {
   "cell_type": "code",
   "execution_count": 8,
   "metadata": {},
   "outputs": [],
   "source": [
    "\n",
    "\n",
    "from sklearn.neighbors import NearestNeighbors\n",
    "\n",
    "nbrs = NearestNeighbors(n_neighbors=5, algorithm='ball_tree').fit(dataset[0].pos)\n"
   ]
  },
  {
   "cell_type": "code",
   "execution_count": 17,
   "metadata": {},
   "outputs": [
    {
     "name": "stdout",
     "output_type": "stream",
     "text": [
      "(56, 5)\n",
      "[[ 0 36 23  4 44]\n",
      " [ 1 37 26 22 28]\n",
      " [ 2 38 21 54 31]\n",
      " [ 3 39 24 20 18]\n",
      " [ 4 36 55 23 16]\n",
      " [ 5 37 54 22 17]\n",
      " [ 6 38 53 21 18]\n",
      " [ 7 39 52 20 19]\n",
      " [ 8 40 13 27 31]\n",
      " [ 9 41 12 26 30]\n",
      " [10 42 25 29 53]\n",
      " [11 43 24 28  5]\n",
      " [12  9 44 36 23]\n",
      " [13 41 30 26  8]\n",
      " [14 46 38 21  6]\n",
      " [15 43 28 24 47]\n",
      " [16 51 44 23  4]\n",
      " [17 50 45 22  5]\n",
      " [18 49 46 21  3]\n",
      " [19 48 47 20  7]\n",
      " [20 47 39  3 32]\n",
      " [21 46 38  2 33]\n",
      " [22 45 37  1 34]\n",
      " [23 44 36  0 35]\n",
      " [24 43 39 28  3]\n",
      " [25 42 29 10 35]\n",
      " [26 41 37 30  1]\n",
      " [27 40 31  8 54]\n",
      " [28 43 47 32 24]\n",
      " [29 42 25 10  7]\n",
      " [30 41 45 34 26]\n",
      " [31 40 27  2 38]\n",
      " [32 47 51 28 20]\n",
      " [33 46 21 18 38]\n",
      " [34 45 30 22 41]\n",
      " [35 44 23 25 42]\n",
      " [36 23  0  4 44]\n",
      " [37 22  1 26  5]\n",
      " [38 21  2  6 46]\n",
      " [39 20  3 24  7]\n",
      " [40 31 27  8 54]\n",
      " [41 30 26 13  9]\n",
      " [42 29 25 10 35]\n",
      " [43 28 24 15 11]\n",
      " [44 23 35 16 36]\n",
      " [45 22 34 30 17]\n",
      " [46 21 33 18 38]\n",
      " [47 20 32 28 19]\n",
      " [48 19 15 52 47]\n",
      " [49 18 14 10 53]\n",
      " [50 17 13 54 45]\n",
      " [51 16 32 47  6]\n",
      " [52  7 15 48 39]\n",
      " [53  6 16 14 10]\n",
      " [54  5  2 40  8]\n",
      " [55  4 41 13  9]]\n"
     ]
    }
   ],
   "source": [
    "_, indices = nbrs.kneighbors(dataset[0].pos.numpy())\n",
    "print (indices.shape)\n",
    "print (indices)"
   ]
  },
  {
   "cell_type": "code",
   "execution_count": 42,
   "metadata": {},
   "outputs": [],
   "source": [
    "d2  = dataset[0].pos.numpy()"
   ]
  },
  {
   "cell_type": "code",
   "execution_count": 43,
   "metadata": {},
   "outputs": [
    {
     "ename": "AttributeError",
     "evalue": "'numpy.ndarray' object has no attribute 'y'",
     "output_type": "error",
     "traceback": [
      "\u001b[0;31m---------------------------------------------------------------------------\u001b[0m",
      "\u001b[0;31mAttributeError\u001b[0m                            Traceback (most recent call last)",
      "\u001b[0;32m/var/folders/8j/x3tkb_0x0hs5chwv19qbw78r0000gn/T/ipykernel_1078/3301044875.py\u001b[0m in \u001b[0;36m<module>\u001b[0;34m\u001b[0m\n\u001b[1;32m      2\u001b[0m \u001b[0;31m# print (alps)\u001b[0m\u001b[0;34m\u001b[0m\u001b[0;34m\u001b[0m\u001b[0m\n\u001b[1;32m      3\u001b[0m \u001b[0;34m\u001b[0m\u001b[0m\n\u001b[0;32m----> 4\u001b[0;31m \u001b[0malps\u001b[0m \u001b[0;34m=\u001b[0m \u001b[0;34m[\u001b[0m\u001b[0mabs\u001b[0m\u001b[0;34m(\u001b[0m\u001b[0md2\u001b[0m\u001b[0;34m[\u001b[0m\u001b[0mi\u001b[0m\u001b[0;34m]\u001b[0m\u001b[0;34m.\u001b[0m\u001b[0my\u001b[0m\u001b[0;34m[\u001b[0m\u001b[0;34m'pf_n'\u001b[0m\u001b[0;34m]\u001b[0m \u001b[0;34m-\u001b[0m \u001b[0;34m(\u001b[0m\u001b[0;36m1\u001b[0m\u001b[0;34m/\u001b[0m\u001b[0;36m4\u001b[0m\u001b[0;34m)\u001b[0m \u001b[0;34m*\u001b[0m \u001b[0;34m(\u001b[0m\u001b[0md2\u001b[0m\u001b[0;34m[\u001b[0m\u001b[0mindices\u001b[0m\u001b[0;34m[\u001b[0m\u001b[0mi\u001b[0m\u001b[0;34m,\u001b[0m \u001b[0;36m1\u001b[0m\u001b[0;34m]\u001b[0m\u001b[0;34m]\u001b[0m\u001b[0;34m.\u001b[0m\u001b[0my\u001b[0m\u001b[0;34m[\u001b[0m\u001b[0;34m'pf_n'\u001b[0m\u001b[0;34m]\u001b[0m \u001b[0;34m+\u001b[0m \u001b[0md2\u001b[0m\u001b[0;34m[\u001b[0m\u001b[0mindices\u001b[0m\u001b[0;34m[\u001b[0m\u001b[0mi\u001b[0m\u001b[0;34m,\u001b[0m \u001b[0;36m2\u001b[0m\u001b[0;34m]\u001b[0m\u001b[0;34m]\u001b[0m\u001b[0;34m.\u001b[0m\u001b[0my\u001b[0m\u001b[0;34m[\u001b[0m\u001b[0;34m'pf_n'\u001b[0m\u001b[0;34m]\u001b[0m \u001b[0;34m+\u001b[0m \u001b[0md2\u001b[0m\u001b[0;34m[\u001b[0m\u001b[0mindices\u001b[0m\u001b[0;34m[\u001b[0m\u001b[0mi\u001b[0m\u001b[0;34m,\u001b[0m \u001b[0;36m3\u001b[0m\u001b[0;34m]\u001b[0m\u001b[0;34m]\u001b[0m\u001b[0;34m.\u001b[0m\u001b[0my\u001b[0m\u001b[0;34m[\u001b[0m\u001b[0;34m'pf_n'\u001b[0m\u001b[0;34m]\u001b[0m \u001b[0;34m+\u001b[0m \u001b[0md2\u001b[0m\u001b[0;34m[\u001b[0m\u001b[0mindices\u001b[0m\u001b[0;34m[\u001b[0m\u001b[0mi\u001b[0m\u001b[0;34m,\u001b[0m \u001b[0;36m4\u001b[0m\u001b[0;34m]\u001b[0m\u001b[0;34m]\u001b[0m\u001b[0;34m.\u001b[0m\u001b[0my\u001b[0m\u001b[0;34m[\u001b[0m\u001b[0;34m'pf_n'\u001b[0m\u001b[0;34m]\u001b[0m\u001b[0;34m)\u001b[0m\u001b[0;34m)\u001b[0m \u001b[0;32mfor\u001b[0m \u001b[0mi\u001b[0m \u001b[0;32min\u001b[0m \u001b[0mrange\u001b[0m\u001b[0;34m(\u001b[0m\u001b[0mlen\u001b[0m\u001b[0;34m(\u001b[0m\u001b[0md2\u001b[0m\u001b[0;34m)\u001b[0m\u001b[0;34m)\u001b[0m\u001b[0;34m]\u001b[0m\u001b[0;34m\u001b[0m\u001b[0;34m\u001b[0m\u001b[0m\n\u001b[0m\u001b[1;32m      5\u001b[0m \u001b[0mprint\u001b[0m \u001b[0;34m(\u001b[0m\u001b[0malps\u001b[0m\u001b[0;34m)\u001b[0m\u001b[0;34m\u001b[0m\u001b[0;34m\u001b[0m\u001b[0m\n\u001b[1;32m      6\u001b[0m \u001b[0;34m\u001b[0m\u001b[0m\n",
      "\u001b[0;32m/var/folders/8j/x3tkb_0x0hs5chwv19qbw78r0000gn/T/ipykernel_1078/3301044875.py\u001b[0m in \u001b[0;36m<listcomp>\u001b[0;34m(.0)\u001b[0m\n\u001b[1;32m      2\u001b[0m \u001b[0;31m# print (alps)\u001b[0m\u001b[0;34m\u001b[0m\u001b[0;34m\u001b[0m\u001b[0m\n\u001b[1;32m      3\u001b[0m \u001b[0;34m\u001b[0m\u001b[0m\n\u001b[0;32m----> 4\u001b[0;31m \u001b[0malps\u001b[0m \u001b[0;34m=\u001b[0m \u001b[0;34m[\u001b[0m\u001b[0mabs\u001b[0m\u001b[0;34m(\u001b[0m\u001b[0md2\u001b[0m\u001b[0;34m[\u001b[0m\u001b[0mi\u001b[0m\u001b[0;34m]\u001b[0m\u001b[0;34m.\u001b[0m\u001b[0my\u001b[0m\u001b[0;34m[\u001b[0m\u001b[0;34m'pf_n'\u001b[0m\u001b[0;34m]\u001b[0m \u001b[0;34m-\u001b[0m \u001b[0;34m(\u001b[0m\u001b[0;36m1\u001b[0m\u001b[0;34m/\u001b[0m\u001b[0;36m4\u001b[0m\u001b[0;34m)\u001b[0m \u001b[0;34m*\u001b[0m \u001b[0;34m(\u001b[0m\u001b[0md2\u001b[0m\u001b[0;34m[\u001b[0m\u001b[0mindices\u001b[0m\u001b[0;34m[\u001b[0m\u001b[0mi\u001b[0m\u001b[0;34m,\u001b[0m \u001b[0;36m1\u001b[0m\u001b[0;34m]\u001b[0m\u001b[0;34m]\u001b[0m\u001b[0;34m.\u001b[0m\u001b[0my\u001b[0m\u001b[0;34m[\u001b[0m\u001b[0;34m'pf_n'\u001b[0m\u001b[0;34m]\u001b[0m \u001b[0;34m+\u001b[0m \u001b[0md2\u001b[0m\u001b[0;34m[\u001b[0m\u001b[0mindices\u001b[0m\u001b[0;34m[\u001b[0m\u001b[0mi\u001b[0m\u001b[0;34m,\u001b[0m \u001b[0;36m2\u001b[0m\u001b[0;34m]\u001b[0m\u001b[0;34m]\u001b[0m\u001b[0;34m.\u001b[0m\u001b[0my\u001b[0m\u001b[0;34m[\u001b[0m\u001b[0;34m'pf_n'\u001b[0m\u001b[0;34m]\u001b[0m \u001b[0;34m+\u001b[0m \u001b[0md2\u001b[0m\u001b[0;34m[\u001b[0m\u001b[0mindices\u001b[0m\u001b[0;34m[\u001b[0m\u001b[0mi\u001b[0m\u001b[0;34m,\u001b[0m \u001b[0;36m3\u001b[0m\u001b[0;34m]\u001b[0m\u001b[0;34m]\u001b[0m\u001b[0;34m.\u001b[0m\u001b[0my\u001b[0m\u001b[0;34m[\u001b[0m\u001b[0;34m'pf_n'\u001b[0m\u001b[0;34m]\u001b[0m \u001b[0;34m+\u001b[0m \u001b[0md2\u001b[0m\u001b[0;34m[\u001b[0m\u001b[0mindices\u001b[0m\u001b[0;34m[\u001b[0m\u001b[0mi\u001b[0m\u001b[0;34m,\u001b[0m \u001b[0;36m4\u001b[0m\u001b[0;34m]\u001b[0m\u001b[0;34m]\u001b[0m\u001b[0;34m.\u001b[0m\u001b[0my\u001b[0m\u001b[0;34m[\u001b[0m\u001b[0;34m'pf_n'\u001b[0m\u001b[0;34m]\u001b[0m\u001b[0;34m)\u001b[0m\u001b[0;34m)\u001b[0m \u001b[0;32mfor\u001b[0m \u001b[0mi\u001b[0m \u001b[0;32min\u001b[0m \u001b[0mrange\u001b[0m\u001b[0;34m(\u001b[0m\u001b[0mlen\u001b[0m\u001b[0;34m(\u001b[0m\u001b[0md2\u001b[0m\u001b[0;34m)\u001b[0m\u001b[0;34m)\u001b[0m\u001b[0;34m]\u001b[0m\u001b[0;34m\u001b[0m\u001b[0;34m\u001b[0m\u001b[0m\n\u001b[0m\u001b[1;32m      5\u001b[0m \u001b[0mprint\u001b[0m \u001b[0;34m(\u001b[0m\u001b[0malps\u001b[0m\u001b[0;34m)\u001b[0m\u001b[0;34m\u001b[0m\u001b[0;34m\u001b[0m\u001b[0m\n\u001b[1;32m      6\u001b[0m \u001b[0;34m\u001b[0m\u001b[0m\n",
      "\u001b[0;31mAttributeError\u001b[0m: 'numpy.ndarray' object has no attribute 'y'"
     ]
    }
   ],
   "source": [
    "# alps = (1/5) * (dataset[indices[0, 1]].y['pf_n'] + dataset[indices[0, 2]].y['pf_n'] + dataset[indices[0, 3]].y['pf_n'] + dataset[indices[0, 4]].y['pf_n'])\n",
    "# print (alps)\n",
    "\n",
    "alps = [abs(d2[i].y['pf_n'] - (1/4) * (d2[indices[i, 1]].y['pf_n'] + d2[indices[i, 2]].y['pf_n'] + d2[indices[i, 3]].y['pf_n'] + d2[indices[i, 4]].y['pf_n'])) for i in range(len(d2))]\n",
    "print (alps)\n",
    "\n",
    "# dataset[0].y['pf_n']\n"
   ]
  },
  {
   "cell_type": "code",
   "execution_count": 41,
   "metadata": {},
   "outputs": [
    {
     "name": "stdout",
     "output_type": "stream",
     "text": [
      "tensor(0.0022)\n"
     ]
    }
   ],
   "source": [
    "print (sum(alps) / len(dataset))"
   ]
  },
  {
   "cell_type": "code",
   "execution_count": null,
   "metadata": {},
   "outputs": [],
   "source": [
    "max_atom = 0\n",
    "for i in dataset:\n",
    "    if len(i.x) > max_atom:\n",
    "        max_atom = len(i.x)\n",
    "\n",
    "print(max_atom)"
   ]
  },
  {
   "cell_type": "code",
   "execution_count": 6,
   "metadata": {},
   "outputs": [
    {
     "name": "stdout",
     "output_type": "stream",
     "text": [
      "0       [[ 0.08245398 10.58009491 11.61923254] O, [3.1...\n",
      "1       [[2.84699546 0.94899849 0.        ] F, [0.9489...\n",
      "2       [[-2.8085287   7.06608376  1.25800196] Na, [1....\n",
      "3       [[2.52287112 1.45658029 7.18290524] Li, [-2.85...\n",
      "4       [[0.86371064 5.14343422 4.80450637] P, [4.5512...\n",
      "                              ...                        \n",
      "9031    [[0.90152298 0.90152298 2.11482411] Li, [2.704...\n",
      "9032    [[0.90289168 4.52569433 1.31102215] S, [2.7086...\n",
      "9033    [[-1.59315710e-08  2.22451952e+00  1.81128203e...\n",
      "9034    [[1.85042092 1.068341   9.80765447] S, [-2.183...\n",
      "9035    [[4.99072785 2.06137412 4.38830252] O, [2.0884...\n",
      "Name: structure, Length: 8924, dtype: object\n"
     ]
    }
   ],
   "source": [
    "print (boltztrap_mp.structure)\n",
    "\n",
    "print (max([len(i.structure) for i in boltztrap_mp.structure]))"
   ]
  }
 ],
 "metadata": {
  "kernelspec": {
   "display_name": "base",
   "language": "python",
   "name": "python3"
  },
  "language_info": {
   "codemirror_mode": {
    "name": "ipython",
    "version": 3
   },
   "file_extension": ".py",
   "mimetype": "text/x-python",
   "name": "python",
   "nbconvert_exporter": "python",
   "pygments_lexer": "ipython3",
   "version": "3.9.7"
  },
  "orig_nbformat": 4,
  "vscode": {
   "interpreter": {
    "hash": "79a2f685719441206ba8e8bee2d8bc3439c502183419445516b37fbd8852fe28"
   }
  }
 },
 "nbformat": 4,
 "nbformat_minor": 2
}
