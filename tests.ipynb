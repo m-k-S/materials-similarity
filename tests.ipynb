{
 "cells": [
  {
   "cell_type": "code",
   "execution_count": 31,
   "metadata": {},
   "outputs": [
    {
     "name": "stdout",
     "output_type": "stream",
     "text": [
      "Fetching boltztrap_mp.json.gz from https://ndownloader.figshare.com/files/13297511 to /Users/muon/opt/anaconda3/lib/python3.9/site-packages/matminer/datasets/boltztrap_mp.json.gz\n"
     ]
    },
    {
     "name": "stderr",
     "output_type": "stream",
     "text": [
      "Fetching https://ndownloader.figshare.com/files/13297511 in MB: 14.020608MB [00:00, 363.05MB/s]                         \n"
     ]
    }
   ],
   "source": [
    "from matminer.datasets import load_dataset\n",
    "\n",
    "# dielectric = load_dataset(\"matbench_dielectric\")\n",
    "# log_gvrh = load_dataset(\"matbench_log_gvrh\")\n",
    "# jdft2d = load_dataset(\"matbench_jdft2d\")\n",
    "\n",
    "boltztrap_mp = load_dataset(\"boltztrap_mp\")\n",
    "\n",
    "# matbench_dielectric\n",
    "matbench_expt_gap\n",
    "# matbench_expt_is_metal\n",
    "# matbench_glass\n",
    "# matbench_jdft2d\n",
    "# matbench_steels"
   ]
  },
  {
   "cell_type": "code",
   "execution_count": 41,
   "metadata": {},
   "outputs": [
    {
     "data": {
      "text/plain": [
       "0        SrCrO4\n",
       "1          PrF3\n",
       "2           SnS\n",
       "3      Tl9SbSe6\n",
       "4       K4GeSe4\n",
       "         ...   \n",
       "362         TlS\n",
       "363      CrPbO4\n",
       "364    LiNiP2O7\n",
       "365         LiF\n",
       "366          KF\n",
       "Length: 367, dtype: object"
      ]
     },
     "execution_count": 41,
     "metadata": {},
     "output_type": "execute_result"
    }
   ],
   "source": [
    "import pandas as pd\n",
    "# dielectric.iloc[0].structure \n",
    "# boltztrap_mp.columns\n",
    "\n",
    "# expt_gap.composition\n",
    "\n",
    "pd.Series(list(set(boltztrap_mp.formula) & set(expt_is_metal.composition)))\n"
   ]
  },
  {
   "cell_type": "code",
   "execution_count": 48,
   "metadata": {},
   "outputs": [
    {
     "data": {
      "text/html": [
       "<div>\n",
       "<style scoped>\n",
       "    .dataframe tbody tr th:only-of-type {\n",
       "        vertical-align: middle;\n",
       "    }\n",
       "\n",
       "    .dataframe tbody tr th {\n",
       "        vertical-align: top;\n",
       "    }\n",
       "\n",
       "    .dataframe thead th {\n",
       "        text-align: right;\n",
       "    }\n",
       "</style>\n",
       "<table border=\"1\" class=\"dataframe\">\n",
       "  <thead>\n",
       "    <tr style=\"text-align: right;\">\n",
       "      <th></th>\n",
       "      <th>mpid</th>\n",
       "      <th>pf_n</th>\n",
       "      <th>pf_p</th>\n",
       "      <th>s_n</th>\n",
       "      <th>s_p</th>\n",
       "      <th>formula</th>\n",
       "      <th>m_n</th>\n",
       "      <th>m_p</th>\n",
       "      <th>structure</th>\n",
       "    </tr>\n",
       "  </thead>\n",
       "  <tbody>\n",
       "    <tr>\n",
       "      <th>0</th>\n",
       "      <td>mp-10070</td>\n",
       "      <td>0.865</td>\n",
       "      <td>0.0125</td>\n",
       "      <td>-421.0</td>\n",
       "      <td>760.0</td>\n",
       "      <td>BaAg(PO3)3</td>\n",
       "      <td>0.578</td>\n",
       "      <td>72.800</td>\n",
       "      <td>[[ 0.08245398 10.58009491 11.61923254] O, [3.1...</td>\n",
       "    </tr>\n",
       "    <tr>\n",
       "      <th>1</th>\n",
       "      <td>mp-10086</td>\n",
       "      <td>1.050</td>\n",
       "      <td>0.6440</td>\n",
       "      <td>-393.0</td>\n",
       "      <td>567.0</td>\n",
       "      <td>YSF</td>\n",
       "      <td>0.541</td>\n",
       "      <td>4.020</td>\n",
       "      <td>[[2.84699546 0.94899849 0.        ] F, [0.9489...</td>\n",
       "    </tr>\n",
       "    <tr>\n",
       "      <th>2</th>\n",
       "      <td>mp-10096</td>\n",
       "      <td>0.977</td>\n",
       "      <td>0.4200</td>\n",
       "      <td>-305.0</td>\n",
       "      <td>471.0</td>\n",
       "      <td>Na3Sr3GaP4</td>\n",
       "      <td>0.270</td>\n",
       "      <td>1.020</td>\n",
       "      <td>[[-2.8085287   7.06608376  1.25800196] Na, [1....</td>\n",
       "    </tr>\n",
       "    <tr>\n",
       "      <th>3</th>\n",
       "      <td>mp-10103</td>\n",
       "      <td>0.889</td>\n",
       "      <td>0.0257</td>\n",
       "      <td>-416.0</td>\n",
       "      <td>871.0</td>\n",
       "      <td>YbLiAlF6</td>\n",
       "      <td>0.548</td>\n",
       "      <td>20.300</td>\n",
       "      <td>[[2.52287112 1.45658029 7.18290524] Li, [-2.85...</td>\n",
       "    </tr>\n",
       "    <tr>\n",
       "      <th>4</th>\n",
       "      <td>mp-10155</td>\n",
       "      <td>0.719</td>\n",
       "      <td>1.5700</td>\n",
       "      <td>-496.0</td>\n",
       "      <td>510.0</td>\n",
       "      <td>P2Ir</td>\n",
       "      <td>1.160</td>\n",
       "      <td>0.667</td>\n",
       "      <td>[[0.86371064 5.14343422 4.80450637] P, [4.5512...</td>\n",
       "    </tr>\n",
       "  </tbody>\n",
       "</table>\n",
       "</div>"
      ],
      "text/plain": [
       "       mpid   pf_n    pf_p    s_n    s_p     formula    m_n     m_p  \\\n",
       "0  mp-10070  0.865  0.0125 -421.0  760.0  BaAg(PO3)3  0.578  72.800   \n",
       "1  mp-10086  1.050  0.6440 -393.0  567.0         YSF  0.541   4.020   \n",
       "2  mp-10096  0.977  0.4200 -305.0  471.0  Na3Sr3GaP4  0.270   1.020   \n",
       "3  mp-10103  0.889  0.0257 -416.0  871.0    YbLiAlF6  0.548  20.300   \n",
       "4  mp-10155  0.719  1.5700 -496.0  510.0        P2Ir  1.160   0.667   \n",
       "\n",
       "                                           structure  \n",
       "0  [[ 0.08245398 10.58009491 11.61923254] O, [3.1...  \n",
       "1  [[2.84699546 0.94899849 0.        ] F, [0.9489...  \n",
       "2  [[-2.8085287   7.06608376  1.25800196] Na, [1....  \n",
       "3  [[2.52287112 1.45658029 7.18290524] Li, [-2.85...  \n",
       "4  [[0.86371064 5.14343422 4.80450637] P, [4.5512...  "
      ]
     },
     "execution_count": 48,
     "metadata": {},
     "output_type": "execute_result"
    }
   ],
   "source": [
    "boltztrap_mp.head()"
   ]
  }
 ],
 "metadata": {
  "kernelspec": {
   "display_name": "Python 3",
   "language": "python",
   "name": "python3"
  },
  "language_info": {
   "codemirror_mode": {
    "name": "ipython",
    "version": 3
   },
   "file_extension": ".py",
   "mimetype": "text/x-python",
   "name": "python",
   "nbconvert_exporter": "python",
   "pygments_lexer": "ipython3",
   "version": "3.9.10"
  },
  "orig_nbformat": 4,
  "vscode": {
   "interpreter": {
    "hash": "b0fa6594d8f4cbf19f97940f81e996739fb7646882a419484c72d19e05852a7e"
   }
  }
 },
 "nbformat": 4,
 "nbformat_minor": 2
}
